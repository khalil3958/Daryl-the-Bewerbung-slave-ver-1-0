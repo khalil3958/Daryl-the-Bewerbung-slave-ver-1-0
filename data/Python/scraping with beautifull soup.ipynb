{
 "cells": [
  {
   "cell_type": "code",
   "execution_count": 9,
   "metadata": {
    "scrolled": true
   },
   "outputs": [
    {
     "name": "stdout",
     "output_type": "stream",
     "text": [
      "['Apple MacBook Air Core i5 5th Gen - (8 GB/128 GB SSD/Mac OS Sierra) MQD32HN/A A1466', 'HP Core i5 7th Gen - (8 GB/1 TB HDD/Windows 10 Home/4 GB Graphics) 15-au623tx Laptop', 'Lenovo Ideapad Core i3 6th Gen - (4 GB/1 TB HDD/DOS) IP 320E Laptop', 'Lenovo Core i5 7th Gen - (8 GB/2 TB HDD/Windows 10 Home/4 GB Graphics) IP 520 Laptop', 'Lenovo Core i5 7th Gen - (8 GB/1 TB HDD/DOS/2 GB Graphics) IP 320-15IKB Laptop', 'Lenovo Ideapad Core i5 7th Gen - (8 GB/1 TB HDD/Windows 10 Home/2 GB Graphics) IP 320-15IKB Laptop', 'Lenovo Core i3 6th Gen - (4 GB/1 TB HDD/Windows 10 Home) IP 320E Laptop']\n",
      "['4.7', '4.4', '4.1', '4.4', '4.3', '4.3', '4', '4.4', '4.7', '4.3', '4', '4.1']\n",
      "['₹59,990', '₹63,854', '₹26,990', '₹49,990', '₹52,990', '₹52,990', '₹40,000']\n"
     ]
    }
   ],
   "source": [
    "from lxml import html\n",
    "import requests\n",
    "import pandas \n",
    "import pandas as pd \n",
    "from urllib.request import urlopen\n",
    "from urllib.error import HTTPError\n",
    "from urllib.error import URLError\n",
    "from bs4 import BeautifulSoup\n",
    "import numpy as np\n",
    "url=requests.get('https://www.flipkart.com/laptops/~buyback-guarantee-on-laptops-/pr?sid=6bo%2Cb5g&uniqBStoreParam1=val1&wid=11.productCard.PMU_V2')\n",
    "pc_s=html.fromstring(url.content)\n",
    "pc_names_list=pc_s.xpath('//div[@class=\"_3wU53n\"]/text()')\n",
    "print (pc_names_list)\n",
    "pc_rating=pc_s.xpath('//div[@class=\"hGSR34\"]/text()')\n",
    "print(pc_rating)\n",
    "pc_price=pc_s.xpath('//div[@class=\"_1vC4OE _2rQ-NK\"]/text()')\n",
    "print(pc_price)\n"
   ]
  },
  {
   "cell_type": "code",
   "execution_count": 73,
   "metadata": {},
   "outputs": [
    {
     "name": "stdout",
     "output_type": "stream",
     "text": [
      "['Apple MacBook Air Core i5 5th Gen - (8 GB/128 GB SSD/Mac OS Sierra) MQD32HN/A A1466', 'HP Core i5 7th Gen - (8 GB/1 TB HDD/Windows 10 Home/4 GB Graphics) 15-au623tx Laptop', 'Lenovo Ideapad Core i3 6th Gen - (4 GB/1 TB HDD/DOS) IP 320E Laptop', 'Lenovo Core i5 7th Gen - (8 GB/2 TB HDD/Windows 10 Home/4 GB Graphics) IP 520 Laptop', 'Lenovo Core i5 7th Gen - (8 GB/1 TB HDD/DOS/2 GB Graphics) IP 320-15IKB Laptop', 'Lenovo Ideapad Core i5 7th Gen - (8 GB/1 TB HDD/Windows 10 Home/2 GB Graphics) IP 320-15IKB Laptop', 'Lenovo Core i3 6th Gen - (4 GB/1 TB HDD/Windows 10 Home) IP 320E Laptop']\n",
      "['₹59,990', '₹63,854', '₹26,990', '₹49,990', '₹52,990', '₹52,990', '₹40,000']\n",
      "['4.7', '4.4', '4.1', '4.4', '4.3', '4.3', '4']\n"
     ]
    }
   ],
   "source": [
    "products=[] #List to store name of the product\n",
    "prices=[] #List to store price of the product\n",
    "ratings=[] #List to store rating of the product\n",
    "bitches=requests.get(\"https://www.flipkart.com/laptops/~buyback-guarantee-on-laptops-/pr?sid=6bo%2Cb5g&amp;amp;amp;uniqBStoreParam1=val1&amp;amp;amp;wid=11.productCard.PMU_V2\")\n",
    "html = bitches.content\n",
    "soup = BeautifulSoup(html)\n",
    "#print (soup)\n",
    "for a in soup.findAll('a', {'class':'_31qSD5'}):\n",
    "        name=a.find('div', {'class':'_3wU53n'}).string\n",
    "        price=a.find('div', {'class':'_1vC4OE _2rQ-NK'}).string\n",
    "        rating=a.find('div',{'class':'hGSR34'}).contents[0]\n",
    "        products.append(str(name))\n",
    "        prices.append(str(price))\n",
    "        ratings.append(str(rating))\n",
    "print (products)\n",
    "print (prices)\n",
    "print(ratings)"
   ]
  },
  {
   "cell_type": "code",
   "execution_count": null,
   "metadata": {},
   "outputs": [],
   "source": []
  }
 ],
 "metadata": {
  "celltoolbar": "Format de la Cellule Texte Brut",
  "kernelspec": {
   "display_name": "Python 3",
   "language": "python",
   "name": "python3"
  },
  "language_info": {
   "codemirror_mode": {
    "name": "ipython",
    "version": 3
   },
   "file_extension": ".py",
   "mimetype": "text/x-python",
   "name": "python",
   "nbconvert_exporter": "python",
   "pygments_lexer": "ipython3",
   "version": "3.7.4"
  }
 },
 "nbformat": 4,
 "nbformat_minor": 2
}
