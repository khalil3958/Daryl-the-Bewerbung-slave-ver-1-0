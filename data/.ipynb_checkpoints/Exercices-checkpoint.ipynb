{
 "cells": [
  {
   "cell_type": "code",
   "execution_count": 2,
   "metadata": {},
   "outputs": [],
   "source": [
    "import pandas as pd\n"
   ]
  },
  {
   "cell_type": "code",
   "execution_count": 3,
   "metadata": {},
   "outputs": [
    {
     "name": "stdout",
     "output_type": "stream",
     "text": [
      "0                    2\n",
      "1    this is a string \n",
      "2                    8\n",
      "3                   10\n",
      "dtype: object\n"
     ]
    }
   ],
   "source": [
    "#exercice_1\n",
    "test=(\"this is a string \")\n",
    "ds = pd.Series([2,test, 8, 10])\n",
    "print(ds)\n",
    "dt=list(ds)\n",
    "#dt"
   ]
  },
  {
   "cell_type": "code",
   "execution_count": 40,
   "metadata": {
    "scrolled": true
   },
   "outputs": [
    {
     "name": "stdout",
     "output_type": "stream",
     "text": [
      "0     2\n",
      "1     4\n",
      "2     6\n",
      "3     8\n",
      "4    10\n",
      "dtype: int64\n",
      "0    1\n",
      "1    3\n",
      "2    5\n",
      "3    7\n",
      "4    9\n",
      "dtype: int64\n",
      "0    True\n",
      "1    True\n",
      "2    True\n",
      "3    True\n",
      "4    True\n",
      "dtype: bool\n",
      "0    False\n",
      "1    False\n",
      "2    False\n",
      "3    False\n",
      "4    False\n",
      "dtype: bool\n",
      "0    False\n",
      "1    False\n",
      "2    False\n",
      "3    False\n",
      "4    False\n",
      "dtype: bool\n",
      "0     3\n",
      "1     7\n",
      "2    11\n",
      "3    15\n",
      "4    19\n",
      "dtype: int64\n",
      "0    1\n",
      "1    1\n",
      "2    1\n",
      "3    1\n",
      "4    1\n",
      "dtype: int64\n",
      "0     2\n",
      "1    12\n",
      "2    30\n",
      "3    56\n",
      "4    90\n",
      "dtype: int64\n"
     ]
    },
    {
     "ename": "NameError",
     "evalue": "name 'serie' is not defined",
     "output_type": "error",
     "traceback": [
      "\u001b[1;31m---------------------------------------------------------------------------\u001b[0m",
      "\u001b[1;31mNameError\u001b[0m                                 Traceback (most recent call last)",
      "\u001b[1;32m<ipython-input-40-33e5aae9dba0>\u001b[0m in \u001b[0;36m<module>\u001b[1;34m\u001b[0m\n\u001b[0;32m     10\u001b[0m \u001b[0mprint\u001b[0m \u001b[1;33m(\u001b[0m\u001b[0mserie1\u001b[0m\u001b[1;33m-\u001b[0m\u001b[0mserie2\u001b[0m\u001b[1;33m)\u001b[0m\u001b[1;33m\u001b[0m\u001b[1;33m\u001b[0m\u001b[0m\n\u001b[0;32m     11\u001b[0m \u001b[0mprint\u001b[0m\u001b[1;33m(\u001b[0m\u001b[0mserie1\u001b[0m\u001b[1;33m*\u001b[0m\u001b[0mserie2\u001b[0m\u001b[1;33m)\u001b[0m\u001b[1;33m\u001b[0m\u001b[1;33m\u001b[0m\u001b[0m\n\u001b[1;32m---> 12\u001b[1;33m \u001b[0mprint\u001b[0m\u001b[1;33m(\u001b[0m\u001b[0mserie\u001b[0m\u001b[1;33m)\u001b[0m\u001b[1;33m\u001b[0m\u001b[1;33m\u001b[0m\u001b[0m\n\u001b[0m",
      "\u001b[1;31mNameError\u001b[0m: name 'serie' is not defined"
     ]
    }
   ],
   "source": [
    "#exercice_2\n",
    "#import pandas as pd\n",
    "serie1=pd.Series([2, 4, 6, 8, 10]) \n",
    "serie2=pd.Series([1, 3, 5, 7, 9])\n",
    "print(serie1)\n",
    "print(serie2)\n",
    "print(serie1>serie2)\n",
    "print(serie1<serie2)\n",
    "print(serie1==serie2)\n",
    "print(serie1+serie2)\n",
    "print (serie1-serie2)\n",
    "print(serie1*serie2)\n",
    "print(serie)\n"
   ]
  },
  {
   "cell_type": "code",
   "execution_count": 41,
   "metadata": {},
   "outputs": [
    {
     "data": {
      "text/plain": [
       "a    100\n",
       "b    200\n",
       "c    300\n",
       "d    400\n",
       "e    800\n",
       "dtype: int64"
      ]
     },
     "execution_count": 41,
     "metadata": {},
     "output_type": "execute_result"
    }
   ],
   "source": [
    "#exercice_3\n",
    "dict = {'a': 100, 'b': 200, 'c': 300, 'd': 400, 'e': 800}\n",
    "covert_to_serie=pd.Series(dict)\n",
    "covert_to_serie"
   ]
  },
  {
   "cell_type": "code",
   "execution_count": 6,
   "metadata": {},
   "outputs": [
    {
     "name": "stdout",
     "output_type": "stream",
     "text": [
      "[10 20 30 40 50]\n"
     ]
    },
    {
     "data": {
      "text/plain": [
       "0    10\n",
       "1    20\n",
       "2    30\n",
       "3    40\n",
       "4    50\n",
       "dtype: int32"
      ]
     },
     "execution_count": 6,
     "metadata": {},
     "output_type": "execute_result"
    }
   ],
   "source": [
    "#exercice_6\n",
    "import numpy as np\n",
    "my_array=np.array([10,20,30,40,50])\n",
    "print(my_array)\n",
    "array_coverted=pd.Series(my_array)\n",
    "array_coverted"
   ]
  },
  {
   "cell_type": "code",
   "execution_count": 58,
   "metadata": {},
   "outputs": [
    {
     "data": {
      "text/plain": [
       "0    100.0\n",
       "1    200.0\n",
       "2      NaN\n",
       "3    300.1\n",
       "4    400.0\n",
       "dtype: float64"
      ]
     },
     "execution_count": 58,
     "metadata": {},
     "output_type": "execute_result"
    }
   ],
   "source": [
    "#exercice_7\n",
    "original_series=pd.Series([100,200,\"python\",300.1,400])\n",
    "numerical_series=pd.to_numeric(original_series,errors='coerce')\n",
    "numerical_series"
   ]
  },
  {
   "cell_type": "code",
   "execution_count": 24,
   "metadata": {},
   "outputs": [
    {
     "name": "stdout",
     "output_type": "stream",
     "text": [
      "   column 1  column 2  column 3\n",
      "0         1         4         7\n",
      "1         2         5         5\n",
      "2         3         6         8\n",
      "3         4         9        12\n",
      "4         7         5         1\n",
      "5        11         0        11\n"
     ]
    },
    {
     "data": {
      "text/plain": [
       "0     1\n",
       "1     2\n",
       "2     3\n",
       "3     4\n",
       "4     7\n",
       "5    11\n",
       "Name: column 1, dtype: int64"
      ]
     },
     "execution_count": 24,
     "metadata": {},
     "output_type": "execute_result"
    }
   ],
   "source": [
    "#exercice 8\n",
    "data_diccio={'column 1':[1,2,3,4,7,11],\n",
    "            'column 2':[4,5,6,9,5,0],\n",
    "            'column 3':[7,5,8,12,1,11]}\n",
    "my_first_frame=pd.DataFrame(data_diccio)\n",
    "print (my_first_frame)\n",
    "#first_column=my_first_frame.ix[:,0] # deprecated\n",
    "first_column=my_first_frame.iloc[:,0]\n",
    "first_column"
   ]
  },
  {
   "cell_type": "code",
   "execution_count": 23,
   "metadata": {},
   "outputs": [
    {
     "data": {
      "text/plain": [
       "array([100, 200, 'python', 300.2, 400], dtype=object)"
      ]
     },
     "execution_count": 23,
     "metadata": {},
     "output_type": "execute_result"
    }
   ],
   "source": [
    "#exercice_9 \n",
    "object_serie=pd.Series([100,200,'python',300.2 ,400])\n",
    "to_array=np.array(object_serie)\n",
    "to_array"
   ]
  },
  {
   "cell_type": "code",
   "execution_count": 37,
   "metadata": {},
   "outputs": [
    {
     "data": {
      "text/plain": [
       "0       Red\n",
       "1     Green\n",
       "2     White\n",
       "3       Red\n",
       "4     Black\n",
       "5    Yellow\n",
       "dtype: object"
      ]
     },
     "execution_count": 37,
     "metadata": {},
     "output_type": "execute_result"
    }
   ],
   "source": [
    "#exercice_10\n",
    "list_colors_1=['Red', 'Green', 'White']\n",
    "list_colors_2=['Red', 'Black']\n",
    "list_colors_3=['Yellow']\n",
    "dicterma={0:list_colors_1,1:list_colors_2,2:list_colors_3}\n",
    "my_color_frame=pd.Series(dicterma)\n",
    "transformed_frame=my_color_frame.apply(pd.Series).stack().reset_index(drop=True)\n",
    "transformed_frame"
   ]
  },
  {
   "cell_type": "code",
   "execution_count": 44,
   "metadata": {},
   "outputs": [
    {
     "data": {
      "text/plain": [
       "4      1\n",
       "0     10\n",
       "1     20\n",
       "2     22\n",
       "3    800\n",
       "dtype: int64"
      ]
     },
     "execution_count": 44,
     "metadata": {},
     "output_type": "execute_result"
    }
   ],
   "source": [
    "#exercice_11\n",
    "serie_to_sort=pd.Series([10,20,22,800,1])\n",
    "serie_sorted=serie_to_sort.sort_values()\n",
    "serie_sorted"
   ]
  },
  {
   "cell_type": "code",
   "execution_count": 56,
   "metadata": {},
   "outputs": [
    {
     "name": "stdout",
     "output_type": "stream",
     "text": [
      "0        aa\n",
      "1        bb\n",
      "2         c\n",
      "3    blabla\n",
      "dtype: object\n",
      "0        aa\n",
      "1        bb\n",
      "2         c\n",
      "3    blabla\n",
      "0     terma\n",
      "dtype: object\n"
     ]
    },
    {
     "data": {
      "text/plain": [
       "0        aa\n",
       "1        bb\n",
       "2         c\n",
       "3    blabla\n",
       "4     terma\n",
       "5     kibra\n",
       "6     smina\n",
       "dtype: object"
      ]
     },
     "execution_count": 56,
     "metadata": {},
     "output_type": "execute_result"
    }
   ],
   "source": [
    "#exercice_12\n",
    "my_serie=pd.Series([\"aa\",\"bb\",\"c\",\"blabla\"])\n",
    "print(my_serie)\n",
    "#my_serie.append(pd.Series(\"terma\"))\n",
    "new_serie=my_serie.append(pd.Series([\"terma\"]))\n",
    "print (new_serie)\n",
    "#optional for index \n",
    "new_new_serie=new_serie.append(pd.Series([\"kibra\",\"smina\"]),ignore_index=True)\n",
    "new_new_serie"
   ]
  },
  {
   "cell_type": "code",
   "execution_count": 59,
   "metadata": {},
   "outputs": [
    {
     "data": {
      "text/plain": [
       "7      7\n",
       "8      8\n",
       "9      9\n",
       "10    10\n",
       "dtype: int64"
      ]
     },
     "execution_count": 59,
     "metadata": {},
     "output_type": "execute_result"
    }
   ],
   "source": [
    "s = pd.Series([0, 1,2,3,4,5,6,7,8,9,10])\n",
    "new_s = s[s >6]\n",
    "new_s"
   ]
  },
  {
   "cell_type": "code",
   "execution_count": 61,
   "metadata": {},
   "outputs": [
    {
     "name": "stdout",
     "output_type": "stream",
     "text": [
      "A    1\n",
      "B    2\n",
      "C    3\n",
      "D    4\n",
      "E    5\n",
      "dtype: int64\n",
      "B    2\n",
      "A    1\n",
      "C    3\n",
      "D    4\n",
      "E    5\n",
      "dtype: int64\n"
     ]
    }
   ],
   "source": [
    "s = pd.Series(data = [1,2,3,4,5], index = ['A', 'B', 'C','D','E'])\n",
    "print(s)\n",
    "s = s.reindex(index = ['B','A','C','D','E'])\n",
    "print(s)"
   ]
  },
  {
   "cell_type": "code",
   "execution_count": null,
   "metadata": {},
   "outputs": [],
   "source": []
  }
 ],
 "metadata": {
  "kernelspec": {
   "display_name": "Python 3",
   "language": "python",
   "name": "python3"
  },
  "language_info": {
   "codemirror_mode": {
    "name": "ipython",
    "version": 3
   },
   "file_extension": ".py",
   "mimetype": "text/x-python",
   "name": "python",
   "nbconvert_exporter": "python",
   "pygments_lexer": "ipython3",
   "version": "3.7.4"
  }
 },
 "nbformat": 4,
 "nbformat_minor": 2
}
